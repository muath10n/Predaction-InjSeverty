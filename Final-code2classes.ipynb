{
 "cells": [
  {
   "cell_type": "code",
   "execution_count": 1,
   "id": "d038a2bf",
   "metadata": {},
   "outputs": [],
   "source": [
    "import pandas as pd\n",
    "import seaborn as sns\n",
    "import matplotlib.pyplot as plt\n",
    "import numpy as np\n",
    "import pickle\n",
    "import warnings\n",
    "\n",
    "warnings.filterwarnings('ignore')"
   ]
  },
  {
   "cell_type": "code",
   "execution_count": 2,
   "id": "35e1e145",
   "metadata": {},
   "outputs": [
    {
     "data": {
      "text/html": [
       "<div>\n",
       "<style scoped>\n",
       "    .dataframe tbody tr th:only-of-type {\n",
       "        vertical-align: middle;\n",
       "    }\n",
       "\n",
       "    .dataframe tbody tr th {\n",
       "        vertical-align: top;\n",
       "    }\n",
       "\n",
       "    .dataframe thead th {\n",
       "        text-align: right;\n",
       "    }\n",
       "</style>\n",
       "<table border=\"1\" class=\"dataframe\">\n",
       "  <thead>\n",
       "    <tr style=\"text-align: right;\">\n",
       "      <th></th>\n",
       "      <th>id</th>\n",
       "      <th>weight</th>\n",
       "      <th>dead</th>\n",
       "      <th>airbag</th>\n",
       "      <th>seatbelt</th>\n",
       "      <th>frontal</th>\n",
       "      <th>sex</th>\n",
       "      <th>ageOFocc</th>\n",
       "      <th>yearacc</th>\n",
       "      <th>yearVeh-year</th>\n",
       "      <th>abcat</th>\n",
       "      <th>occRole</th>\n",
       "      <th>deploy</th>\n",
       "      <th>injSeverity</th>\n",
       "      <th>AgeCar</th>\n",
       "    </tr>\n",
       "  </thead>\n",
       "  <tbody>\n",
       "    <tr>\n",
       "      <th>0</th>\n",
       "      <td>1</td>\n",
       "      <td>25.069</td>\n",
       "      <td>alive</td>\n",
       "      <td>none</td>\n",
       "      <td>belted</td>\n",
       "      <td>1</td>\n",
       "      <td>f</td>\n",
       "      <td>26</td>\n",
       "      <td>1997</td>\n",
       "      <td>1990.0</td>\n",
       "      <td>unavail</td>\n",
       "      <td>driver</td>\n",
       "      <td>0</td>\n",
       "      <td>3.0</td>\n",
       "      <td>7.0</td>\n",
       "    </tr>\n",
       "    <tr>\n",
       "      <th>1</th>\n",
       "      <td>2</td>\n",
       "      <td>25.069</td>\n",
       "      <td>alive</td>\n",
       "      <td>airbag</td>\n",
       "      <td>belted</td>\n",
       "      <td>1</td>\n",
       "      <td>f</td>\n",
       "      <td>72</td>\n",
       "      <td>1997</td>\n",
       "      <td>1995.0</td>\n",
       "      <td>deploy</td>\n",
       "      <td>driver</td>\n",
       "      <td>1</td>\n",
       "      <td>1.0</td>\n",
       "      <td>2.0</td>\n",
       "    </tr>\n",
       "    <tr>\n",
       "      <th>2</th>\n",
       "      <td>3</td>\n",
       "      <td>32.379</td>\n",
       "      <td>alive</td>\n",
       "      <td>none</td>\n",
       "      <td>none</td>\n",
       "      <td>1</td>\n",
       "      <td>f</td>\n",
       "      <td>69</td>\n",
       "      <td>1997</td>\n",
       "      <td>1988.0</td>\n",
       "      <td>unavail</td>\n",
       "      <td>driver</td>\n",
       "      <td>0</td>\n",
       "      <td>4.0</td>\n",
       "      <td>9.0</td>\n",
       "    </tr>\n",
       "    <tr>\n",
       "      <th>3</th>\n",
       "      <td>4</td>\n",
       "      <td>495.444</td>\n",
       "      <td>alive</td>\n",
       "      <td>airbag</td>\n",
       "      <td>belted</td>\n",
       "      <td>1</td>\n",
       "      <td>f</td>\n",
       "      <td>53</td>\n",
       "      <td>1997</td>\n",
       "      <td>1995.0</td>\n",
       "      <td>deploy</td>\n",
       "      <td>driver</td>\n",
       "      <td>1</td>\n",
       "      <td>1.0</td>\n",
       "      <td>2.0</td>\n",
       "    </tr>\n",
       "    <tr>\n",
       "      <th>4</th>\n",
       "      <td>5</td>\n",
       "      <td>25.069</td>\n",
       "      <td>alive</td>\n",
       "      <td>none</td>\n",
       "      <td>belted</td>\n",
       "      <td>1</td>\n",
       "      <td>f</td>\n",
       "      <td>32</td>\n",
       "      <td>1997</td>\n",
       "      <td>1988.0</td>\n",
       "      <td>unavail</td>\n",
       "      <td>driver</td>\n",
       "      <td>0</td>\n",
       "      <td>3.0</td>\n",
       "      <td>9.0</td>\n",
       "    </tr>\n",
       "  </tbody>\n",
       "</table>\n",
       "</div>"
      ],
      "text/plain": [
       "   id   weight   dead  airbag seatbelt  frontal sex  ageOFocc  yearacc  \\\n",
       "0   1   25.069  alive    none   belted        1   f        26     1997   \n",
       "1   2   25.069  alive  airbag   belted        1   f        72     1997   \n",
       "2   3   32.379  alive    none     none        1   f        69     1997   \n",
       "3   4  495.444  alive  airbag   belted        1   f        53     1997   \n",
       "4   5   25.069  alive    none   belted        1   f        32     1997   \n",
       "\n",
       "   yearVeh-year    abcat occRole  deploy  injSeverity  AgeCar  \n",
       "0        1990.0  unavail  driver       0          3.0     7.0  \n",
       "1        1995.0   deploy  driver       1          1.0     2.0  \n",
       "2        1988.0  unavail  driver       0          4.0     9.0  \n",
       "3        1995.0   deploy  driver       1          1.0     2.0  \n",
       "4        1988.0  unavail  driver       0          3.0     9.0  "
      ]
     },
     "execution_count": 2,
     "metadata": {},
     "output_type": "execute_result"
    }
   ],
   "source": [
    "df = pd.read_excel('DataSetTA.xlsx')\n",
    "df.head()"
   ]
  },
  {
   "cell_type": "code",
   "execution_count": 3,
   "id": "c45d9b3c",
   "metadata": {},
   "outputs": [],
   "source": [
    "# drop the missing values from dataset\n",
    "df=df.dropna(axis=0)\n",
    "df=df.dropna().reset_index(drop=True)"
   ]
  },
  {
   "cell_type": "code",
   "execution_count": 4,
   "id": "27d4d09e",
   "metadata": {},
   "outputs": [],
   "source": [
    "# drop the id column scince it is not going to be used for the classification\n",
    "df = df.drop(['id'], axis=1)"
   ]
  },
  {
   "cell_type": "code",
   "execution_count": 5,
   "id": "1ccd215d",
   "metadata": {},
   "outputs": [
    {
     "data": {
      "text/plain": [
       "3.0    5873\n",
       "0.0    4364\n",
       "1.0    3903\n",
       "2.0    2895\n",
       "4.0     788\n",
       "5.0      88\n",
       "6.0       2\n",
       "Name: injSeverity, dtype: int64"
      ]
     },
     "execution_count": 5,
     "metadata": {},
     "output_type": "execute_result"
    }
   ],
   "source": [
    "df['injSeverity'].value_counts()"
   ]
  },
  {
   "cell_type": "code",
   "execution_count": 6,
   "id": "5255f8ec",
   "metadata": {},
   "outputs": [],
   "source": [
    "# drop the cluster 6 and 5, because we only have 2 and 88 values and it is impossible yo predict it\n",
    "\n",
    "df.drop(df[(df['injSeverity'] == 5.0)].index, inplace=True)\n",
    "df.drop(df[(df['injSeverity'] == 6.0)].index, inplace=True)"
   ]
  },
  {
   "cell_type": "code",
   "execution_count": 7,
   "id": "4f9a93dd",
   "metadata": {},
   "outputs": [
    {
     "data": {
      "text/plain": [
       "3.0    5873\n",
       "0.0    4364\n",
       "1.0    3903\n",
       "2.0    2895\n",
       "4.0     788\n",
       "Name: injSeverity, dtype: int64"
      ]
     },
     "execution_count": 7,
     "metadata": {},
     "output_type": "execute_result"
    }
   ],
   "source": [
    "df['injSeverity'].value_counts()"
   ]
  },
  {
   "cell_type": "code",
   "execution_count": 8,
   "id": "73be2a1a",
   "metadata": {},
   "outputs": [],
   "source": [
    "# we can see that the wight column have outliers because, the wieght 0 indicates it is a missing value, so we will be droping lines where the weight is equal to 0\n",
    "\n",
    "df.drop(df[(df['weight'] == 0)].index, inplace=True)"
   ]
  },
  {
   "cell_type": "code",
   "execution_count": 9,
   "id": "5ad5b3f9",
   "metadata": {},
   "outputs": [
    {
     "data": {
      "text/html": [
       "<div>\n",
       "<style scoped>\n",
       "    .dataframe tbody tr th:only-of-type {\n",
       "        vertical-align: middle;\n",
       "    }\n",
       "\n",
       "    .dataframe tbody tr th {\n",
       "        vertical-align: top;\n",
       "    }\n",
       "\n",
       "    .dataframe thead th {\n",
       "        text-align: right;\n",
       "    }\n",
       "</style>\n",
       "<table border=\"1\" class=\"dataframe\">\n",
       "  <thead>\n",
       "    <tr style=\"text-align: right;\">\n",
       "      <th></th>\n",
       "      <th>weight</th>\n",
       "      <th>frontal</th>\n",
       "      <th>ageOFocc</th>\n",
       "      <th>yearacc</th>\n",
       "      <th>yearVeh-year</th>\n",
       "      <th>AgeCar</th>\n",
       "      <th>dead</th>\n",
       "      <th>airbag</th>\n",
       "      <th>seatbelt</th>\n",
       "      <th>sex</th>\n",
       "      <th>abcat</th>\n",
       "      <th>occRole</th>\n",
       "      <th>deploy</th>\n",
       "      <th>injSeverity</th>\n",
       "    </tr>\n",
       "  </thead>\n",
       "  <tbody>\n",
       "    <tr>\n",
       "      <th>0</th>\n",
       "      <td>25.069</td>\n",
       "      <td>1</td>\n",
       "      <td>26</td>\n",
       "      <td>1997</td>\n",
       "      <td>1990.0</td>\n",
       "      <td>7.0</td>\n",
       "      <td>0</td>\n",
       "      <td>1</td>\n",
       "      <td>0</td>\n",
       "      <td>0</td>\n",
       "      <td>2</td>\n",
       "      <td>0</td>\n",
       "      <td>0</td>\n",
       "      <td>3</td>\n",
       "    </tr>\n",
       "    <tr>\n",
       "      <th>1</th>\n",
       "      <td>25.069</td>\n",
       "      <td>1</td>\n",
       "      <td>72</td>\n",
       "      <td>1997</td>\n",
       "      <td>1995.0</td>\n",
       "      <td>2.0</td>\n",
       "      <td>0</td>\n",
       "      <td>0</td>\n",
       "      <td>0</td>\n",
       "      <td>0</td>\n",
       "      <td>0</td>\n",
       "      <td>0</td>\n",
       "      <td>1</td>\n",
       "      <td>1</td>\n",
       "    </tr>\n",
       "    <tr>\n",
       "      <th>2</th>\n",
       "      <td>32.379</td>\n",
       "      <td>1</td>\n",
       "      <td>69</td>\n",
       "      <td>1997</td>\n",
       "      <td>1988.0</td>\n",
       "      <td>9.0</td>\n",
       "      <td>0</td>\n",
       "      <td>1</td>\n",
       "      <td>1</td>\n",
       "      <td>0</td>\n",
       "      <td>2</td>\n",
       "      <td>0</td>\n",
       "      <td>0</td>\n",
       "      <td>4</td>\n",
       "    </tr>\n",
       "    <tr>\n",
       "      <th>3</th>\n",
       "      <td>495.444</td>\n",
       "      <td>1</td>\n",
       "      <td>53</td>\n",
       "      <td>1997</td>\n",
       "      <td>1995.0</td>\n",
       "      <td>2.0</td>\n",
       "      <td>0</td>\n",
       "      <td>0</td>\n",
       "      <td>0</td>\n",
       "      <td>0</td>\n",
       "      <td>0</td>\n",
       "      <td>0</td>\n",
       "      <td>1</td>\n",
       "      <td>1</td>\n",
       "    </tr>\n",
       "    <tr>\n",
       "      <th>4</th>\n",
       "      <td>25.069</td>\n",
       "      <td>1</td>\n",
       "      <td>32</td>\n",
       "      <td>1997</td>\n",
       "      <td>1988.0</td>\n",
       "      <td>9.0</td>\n",
       "      <td>0</td>\n",
       "      <td>1</td>\n",
       "      <td>0</td>\n",
       "      <td>0</td>\n",
       "      <td>2</td>\n",
       "      <td>0</td>\n",
       "      <td>0</td>\n",
       "      <td>3</td>\n",
       "    </tr>\n",
       "  </tbody>\n",
       "</table>\n",
       "</div>"
      ],
      "text/plain": [
       "    weight  frontal  ageOFocc  yearacc  yearVeh-year  AgeCar  dead  airbag  \\\n",
       "0   25.069        1        26     1997        1990.0     7.0     0       1   \n",
       "1   25.069        1        72     1997        1995.0     2.0     0       0   \n",
       "2   32.379        1        69     1997        1988.0     9.0     0       1   \n",
       "3  495.444        1        53     1997        1995.0     2.0     0       0   \n",
       "4   25.069        1        32     1997        1988.0     9.0     0       1   \n",
       "\n",
       "   seatbelt  sex  abcat  occRole  deploy  injSeverity  \n",
       "0         0    0      2        0       0            3  \n",
       "1         0    0      0        0       1            1  \n",
       "2         1    0      2        0       0            4  \n",
       "3         0    0      0        0       1            1  \n",
       "4         0    0      2        0       0            3  "
      ]
     },
     "execution_count": 9,
     "metadata": {},
     "output_type": "execute_result"
    }
   ],
   "source": [
    "# encode the categorical variables into numerical variables using the label encoder\n",
    "\n",
    "from sklearn.preprocessing import LabelEncoder\n",
    "\n",
    "headers = ['dead','airbag','seatbelt','sex','abcat','occRole','deploy','injSeverity']\n",
    "\n",
    "#making instance of labelencoder()\n",
    "le = LabelEncoder()\n",
    "\n",
    "for col in headers : \n",
    "    encoded = le.fit_transform(df[col])\n",
    "\n",
    "    # removing the original column 'Purchased' from df\n",
    "    df.drop(col, axis=1, inplace=True)\n",
    " \n",
    "    # Appending the array to our dataFrame\n",
    "    df[col] = encoded\n",
    "\n",
    "df.head()"
   ]
  },
  {
   "cell_type": "code",
   "execution_count": 10,
   "id": "5ecbcfdf",
   "metadata": {},
   "outputs": [],
   "source": [
    "import copy\n",
    "\n",
    "# save the claned version of the dataset for further developements\n",
    "df_clean = copy.deepcopy(df)\n",
    "df_clean_dead = copy.deepcopy(df)"
   ]
  },
  {
   "cell_type": "markdown",
   "id": "b534d074",
   "metadata": {},
   "source": [
    "### Train Test Split"
   ]
  },
  {
   "cell_type": "code",
   "execution_count": 11,
   "id": "bbe5a6b8",
   "metadata": {},
   "outputs": [],
   "source": [
    "X = df.drop('injSeverity', axis=1).values\n",
    "y = df['injSeverity'].values"
   ]
  },
  {
   "cell_type": "code",
   "execution_count": 12,
   "id": "cb87b331",
   "metadata": {},
   "outputs": [],
   "source": [
    "from sklearn.model_selection import train_test_split\n",
    "X_train, X_test, y_train, y_test = train_test_split(X, y, test_size = 0.40, random_state=50)"
   ]
  },
  {
   "cell_type": "code",
   "execution_count": 13,
   "id": "95504505",
   "metadata": {},
   "outputs": [
    {
     "data": {
      "text/plain": [
       "(10574, 13)"
      ]
     },
     "execution_count": 13,
     "metadata": {},
     "output_type": "execute_result"
    }
   ],
   "source": [
    "X_train.shape\n"
   ]
  },
  {
   "cell_type": "code",
   "execution_count": 14,
   "id": "0a5d6419",
   "metadata": {},
   "outputs": [
    {
     "data": {
      "text/plain": [
       "(7050, 13)"
      ]
     },
     "execution_count": 14,
     "metadata": {},
     "output_type": "execute_result"
    }
   ],
   "source": [
    "X_test.shape"
   ]
  },
  {
   "cell_type": "markdown",
   "id": "915111d3",
   "metadata": {},
   "source": [
    "# Marge into two classes"
   ]
  },
  {
   "cell_type": "code",
   "execution_count": 15,
   "id": "9ded3edb",
   "metadata": {},
   "outputs": [],
   "source": [
    "#As mentionned, will merge the classes 0 and 1 in one class called possible injury, \n",
    "#and for the classes 2, 3 and 4, in one class called injury, \n"
   ]
  },
  {
   "cell_type": "code",
   "execution_count": 16,
   "id": "d2541ae5",
   "metadata": {},
   "outputs": [],
   "source": [
    "# Merge classes\n",
    "df_clean['injSeverity'] = df_clean['injSeverity'].replace(1, 0)\n",
    "df_clean['injSeverity'] = df_clean['injSeverity'].replace(2, 1)\n",
    "df_clean['injSeverity'] = df_clean['injSeverity'].replace(3, 1)\n",
    "df_clean['injSeverity'] = df_clean['injSeverity'].replace(4, 1)"
   ]
  },
  {
   "cell_type": "code",
   "execution_count": 17,
   "id": "4614cacd",
   "metadata": {},
   "outputs": [
    {
     "data": {
      "text/plain": [
       "1    9480\n",
       "0    8144\n",
       "Name: injSeverity, dtype: int64"
      ]
     },
     "execution_count": 17,
     "metadata": {},
     "output_type": "execute_result"
    }
   ],
   "source": [
    "df_clean['injSeverity'].value_counts()"
   ]
  },
  {
   "cell_type": "code",
   "execution_count": 18,
   "id": "4ccd8ea4",
   "metadata": {},
   "outputs": [],
   "source": [
    "#We can clearly see that we have no longer problems of imblanaces, \n",
    "#because the first class have 9480 values and the second class have 8144 values,which is very balanced for our learning."
   ]
  },
  {
   "cell_type": "code",
   "execution_count": 19,
   "id": "cf2d293b",
   "metadata": {},
   "outputs": [],
   "source": [
    "X = df_clean.drop('injSeverity', axis=1).values\n",
    "y = df_clean['injSeverity'].values"
   ]
  },
  {
   "cell_type": "code",
   "execution_count": 20,
   "id": "d19b38a5",
   "metadata": {},
   "outputs": [],
   "source": [
    "from sklearn.model_selection import train_test_split\n",
    "X_train, X_test, y_train, y_test = train_test_split(X, y, test_size = 0.40, random_state=50)"
   ]
  },
  {
   "cell_type": "code",
   "execution_count": 21,
   "id": "85153914",
   "metadata": {},
   "outputs": [
    {
     "name": "stdout",
     "output_type": "stream",
     "text": [
      "[[1506 1771]\n",
      " [ 526 3247]]\n",
      "              precision    recall  f1-score   support\n",
      "\n",
      "           0       0.74      0.46      0.57      3277\n",
      "           1       0.65      0.86      0.74      3773\n",
      "\n",
      "    accuracy                           0.67      7050\n",
      "   macro avg       0.69      0.66      0.65      7050\n",
      "weighted avg       0.69      0.67      0.66      7050\n",
      "\n"
     ]
    }
   ],
   "source": [
    "from sklearn.svm import SVC\n",
    "\n",
    "clf = SVC(decision_function_shape='ovo')\n",
    "  \n",
    "# fitting x samples and y classes \n",
    "clf.fit(X_train, y_train) \n",
    "\n",
    "y_pred = clf.predict(X_test)\n",
    "\n",
    "from sklearn.metrics import classification_report, confusion_matrix\n",
    "print(confusion_matrix(y_test,y_pred))\n",
    "print(classification_report(y_test,y_pred))"
   ]
  },
  {
   "cell_type": "code",
   "execution_count": 22,
   "id": "8567d8de",
   "metadata": {},
   "outputs": [
    {
     "name": "stdout",
     "output_type": "stream",
     "text": [
      "[[1875 1402]\n",
      " [ 723 3050]]\n",
      "              precision    recall  f1-score   support\n",
      "\n",
      "           0       0.72      0.57      0.64      3277\n",
      "           1       0.69      0.81      0.74      3773\n",
      "\n",
      "    accuracy                           0.70      7050\n",
      "   macro avg       0.70      0.69      0.69      7050\n",
      "weighted avg       0.70      0.70      0.69      7050\n",
      "\n"
     ]
    }
   ],
   "source": [
    "from sklearn.tree import DecisionTreeClassifier\n",
    "\n",
    "decision_tree = DecisionTreeClassifier(criterion='entropy', max_depth=5, min_samples_leaf=100, random_state=42)\n",
    "decision_tree = decision_tree.fit(X_train, y_train)\n",
    "\n",
    "y_pred = decision_tree.predict(X_test)\n",
    "\n",
    "from sklearn.metrics import classification_report, confusion_matrix\n",
    "print(confusion_matrix(y_test,y_pred))\n",
    "print(classification_report(y_test,y_pred))"
   ]
  },
  {
   "cell_type": "code",
   "execution_count": 23,
   "id": "0a7ca5f3",
   "metadata": {},
   "outputs": [],
   "source": [
    "from sklearn.ensemble import RandomForestClassifier\n",
    "\n",
    "dt_reg = RandomForestClassifier(max_depth=20, max_features='sqrt', min_samples_split=100, n_estimators=400)\n",
    "dt_reg.fit(X_train,y_train)\n",
    "\n",
    "# save the model to disk\n",
    "filename = 'finalized_model.sav'\n",
    "pickle.dump(dt_reg, open(filename, 'wb'))\n",
    "\n"
   ]
  },
  {
   "cell_type": "code",
   "execution_count": 24,
   "id": "27070b86",
   "metadata": {},
   "outputs": [
    {
     "name": "stdout",
     "output_type": "stream",
     "text": [
      "[[2013 1264]\n",
      " [ 790 2983]]\n",
      "              precision    recall  f1-score   support\n",
      "\n",
      "           0       0.72      0.61      0.66      3277\n",
      "           1       0.70      0.79      0.74      3773\n",
      "\n",
      "    accuracy                           0.71      7050\n",
      "   macro avg       0.71      0.70      0.70      7050\n",
      "weighted avg       0.71      0.71      0.71      7050\n",
      "\n"
     ]
    }
   ],
   "source": [
    "y_pred = dt_reg.predict(X_test)\n",
    "\n",
    "from sklearn.metrics import classification_report, confusion_matrix\n",
    "print(confusion_matrix(y_test,y_pred))\n",
    "print(classification_report(y_test,y_pred))"
   ]
  },
  {
   "cell_type": "code",
   "execution_count": 25,
   "id": "deb4d934",
   "metadata": {},
   "outputs": [
    {
     "name": "stdout",
     "output_type": "stream",
     "text": [
      "[[2061 1216]\n",
      " [ 933 2840]]\n",
      "              precision    recall  f1-score   support\n",
      "\n",
      "           0       0.69      0.63      0.66      3277\n",
      "           1       0.70      0.75      0.73      3773\n",
      "\n",
      "    accuracy                           0.70      7050\n",
      "   macro avg       0.69      0.69      0.69      7050\n",
      "weighted avg       0.69      0.70      0.69      7050\n",
      "\n"
     ]
    }
   ],
   "source": [
    "from xgboost import XGBClassifier\n",
    "\n",
    "Xgb = XGBClassifier()\n",
    "Xgb.fit(X_train,y_train)\n",
    "\n",
    "y_pred = Xgb.predict(X_test)\n",
    "\n",
    "from sklearn.metrics import classification_report, confusion_matrix\n",
    "print(confusion_matrix(y_test,y_pred))\n",
    "print(classification_report(y_test,y_pred))"
   ]
  },
  {
   "cell_type": "code",
   "execution_count": null,
   "id": "2f4396ba",
   "metadata": {},
   "outputs": [],
   "source": []
  },
  {
   "cell_type": "code",
   "execution_count": null,
   "id": "a95fbb42",
   "metadata": {},
   "outputs": [],
   "source": []
  }
 ],
 "metadata": {
  "kernelspec": {
   "display_name": "Python 3 (ipykernel)",
   "language": "python",
   "name": "python3"
  },
  "language_info": {
   "codemirror_mode": {
    "name": "ipython",
    "version": 3
   },
   "file_extension": ".py",
   "mimetype": "text/x-python",
   "name": "python",
   "nbconvert_exporter": "python",
   "pygments_lexer": "ipython3",
   "version": "3.9.12"
  }
 },
 "nbformat": 4,
 "nbformat_minor": 5
}
